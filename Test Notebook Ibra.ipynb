{
    "cells": [
        {
            "cell_type": "code",
            "execution_count": 1,
            "metadata": {},
            "outputs": [
                {
                    "data": {
                        "text/html": "<div>\n<style scoped>\n    .dataframe tbody tr th:only-of-type {\n        vertical-align: middle;\n    }\n\n    .dataframe tbody tr th {\n        vertical-align: top;\n    }\n\n    .dataframe thead th {\n        text-align: right;\n    }\n</style>\n<table border=\"1\" class=\"dataframe\">\n  <thead>\n    <tr style=\"text-align: right;\">\n      <th></th>\n      <th>CRIM</th>\n      <th>ZN</th>\n      <th>INDUS</th>\n      <th>CHAS</th>\n      <th>NOX</th>\n      <th>RM</th>\n      <th>AGE</th>\n      <th>DIS</th>\n      <th>RAD</th>\n      <th>TAX</th>\n      <th>...</th>\n      <th>MEDV_predic</th>\n      <th>residuales</th>\n      <th>resid_abs</th>\n      <th>residuales_2</th>\n      <th>MEDV-media</th>\n      <th>Unnamed: 19</th>\n      <th>Unnamed: 20</th>\n      <th>Unnamed: 21</th>\n      <th>Unnamed: 22</th>\n      <th>Unnamed: 23</th>\n    </tr>\n  </thead>\n  <tbody>\n    <tr>\n      <th>0</th>\n      <td>0.00632</td>\n      <td>18.0</td>\n      <td>2.31</td>\n      <td>0</td>\n      <td>0.538</td>\n      <td>6.575</td>\n      <td>65.2</td>\n      <td>4.0900</td>\n      <td>1</td>\n      <td>296</td>\n      <td>...</td>\n      <td>25.174650</td>\n      <td>1.174650</td>\n      <td>1.174650</td>\n      <td>1.379803</td>\n      <td>1.467194</td>\n      <td>2.152657</td>\n      <td>NaN</td>\n      <td>NaN</td>\n      <td>w_1</td>\n      <td>9.102000</td>\n    </tr>\n    <tr>\n      <th>1</th>\n      <td>0.02731</td>\n      <td>0.0</td>\n      <td>7.07</td>\n      <td>0</td>\n      <td>0.469</td>\n      <td>6.421</td>\n      <td>78.9</td>\n      <td>4.9671</td>\n      <td>2</td>\n      <td>242</td>\n      <td>...</td>\n      <td>23.772942</td>\n      <td>2.172942</td>\n      <td>2.172942</td>\n      <td>4.721677</td>\n      <td>-0.932806</td>\n      <td>0.870128</td>\n      <td>NaN</td>\n      <td>NaN</td>\n      <td>w_0</td>\n      <td>-34.671000</td>\n    </tr>\n    <tr>\n      <th>2</th>\n      <td>0.02729</td>\n      <td>0.0</td>\n      <td>7.07</td>\n      <td>0</td>\n      <td>0.469</td>\n      <td>7.185</td>\n      <td>61.1</td>\n      <td>4.9671</td>\n      <td>2</td>\n      <td>242</td>\n      <td>...</td>\n      <td>30.726870</td>\n      <td>-3.973130</td>\n      <td>3.973130</td>\n      <td>15.785762</td>\n      <td>12.167194</td>\n      <td>148.040602</td>\n      <td>NaN</td>\n      <td>NaN</td>\n      <td>MSE / SSE</td>\n      <td>43.600553</td>\n    </tr>\n    <tr>\n      <th>3</th>\n      <td>0.03237</td>\n      <td>0.0</td>\n      <td>2.18</td>\n      <td>0</td>\n      <td>0.458</td>\n      <td>6.998</td>\n      <td>45.8</td>\n      <td>6.0622</td>\n      <td>3</td>\n      <td>222</td>\n      <td>...</td>\n      <td>29.024796</td>\n      <td>-4.375204</td>\n      <td>4.375204</td>\n      <td>19.142410</td>\n      <td>10.867194</td>\n      <td>118.095898</td>\n      <td>NaN</td>\n      <td>NaN</td>\n      <td>RMSE</td>\n      <td>6.603071</td>\n    </tr>\n    <tr>\n      <th>4</th>\n      <td>0.06905</td>\n      <td>0.0</td>\n      <td>2.18</td>\n      <td>0</td>\n      <td>0.458</td>\n      <td>7.147</td>\n      <td>54.2</td>\n      <td>6.0622</td>\n      <td>3</td>\n      <td>222</td>\n      <td>...</td>\n      <td>30.380994</td>\n      <td>-5.819006</td>\n      <td>5.819006</td>\n      <td>33.860831</td>\n      <td>13.667194</td>\n      <td>186.792183</td>\n      <td>NaN</td>\n      <td>NaN</td>\n      <td>media</td>\n      <td>22.532806</td>\n    </tr>\n  </tbody>\n</table>\n<p>5 rows \u00d7 24 columns</p>\n</div>",
                        "text/plain": "      CRIM    ZN  INDUS  CHAS    NOX     RM   AGE     DIS  RAD  TAX  ...  \\\n0  0.00632  18.0   2.31     0  0.538  6.575  65.2  4.0900    1  296  ...   \n1  0.02731   0.0   7.07     0  0.469  6.421  78.9  4.9671    2  242  ...   \n2  0.02729   0.0   7.07     0  0.469  7.185  61.1  4.9671    2  242  ...   \n3  0.03237   0.0   2.18     0  0.458  6.998  45.8  6.0622    3  222  ...   \n4  0.06905   0.0   2.18     0  0.458  7.147  54.2  6.0622    3  222  ...   \n\n   MEDV_predic  residuales  resid_abs  residuales_2  MEDV-media  Unnamed: 19  \\\n0    25.174650    1.174650   1.174650      1.379803    1.467194     2.152657   \n1    23.772942    2.172942   2.172942      4.721677   -0.932806     0.870128   \n2    30.726870   -3.973130   3.973130     15.785762   12.167194   148.040602   \n3    29.024796   -4.375204   4.375204     19.142410   10.867194   118.095898   \n4    30.380994   -5.819006   5.819006     33.860831   13.667194   186.792183   \n\n   Unnamed: 20  Unnamed: 21  Unnamed: 22  Unnamed: 23  \n0          NaN          NaN          w_1     9.102000  \n1          NaN          NaN          w_0   -34.671000  \n2          NaN          NaN    MSE / SSE    43.600553  \n3          NaN          NaN         RMSE     6.603071  \n4          NaN          NaN        media    22.532806  \n\n[5 rows x 24 columns]"
                    },
                    "execution_count": 1,
                    "metadata": {},
                    "output_type": "execute_result"
                }
            ],
            "source": "# The code was removed by Watson Studio for sharing."
        },
        {
            "cell_type": "code",
            "execution_count": null,
            "metadata": {},
            "outputs": [],
            "source": ""
        }
    ],
    "metadata": {
        "kernelspec": {
            "display_name": "Python 3.6",
            "language": "python",
            "name": "python3"
        },
        "language_info": {
            "codemirror_mode": {
                "name": "ipython",
                "version": 3
            },
            "file_extension": ".py",
            "mimetype": "text/x-python",
            "name": "python",
            "nbconvert_exporter": "python",
            "pygments_lexer": "ipython3",
            "version": "3.6.9"
        }
    },
    "nbformat": 4,
    "nbformat_minor": 1
}